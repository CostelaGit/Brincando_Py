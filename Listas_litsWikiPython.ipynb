{
 "cells": [
  {
   "cell_type": "markdown",
   "metadata": {},
   "source": [
    "Faça um Programa que leia um vetor de 5 números inteiros e mostre-os"
   ]
  },
  {
   "cell_type": "code",
   "execution_count": 1,
   "metadata": {},
   "outputs": [
    {
     "name": "stdout",
     "output_type": "stream",
     "text": [
      "[1, 2, 3, 4, 5]\n"
     ]
    }
   ],
   "source": [
    "list = [1, 2, 3, 4, 5]\n",
    "print(list)"
   ]
  },
  {
   "cell_type": "markdown",
   "metadata": {},
   "source": [
    "Faça um Programa que leia um vetor de 10 números reais e mostre-os na ordem inversa"
   ]
  },
  {
   "cell_type": "code",
   "execution_count": 6,
   "metadata": {},
   "outputs": [
    {
     "name": "stdout",
     "output_type": "stream",
     "text": [
      "[13, 12, 11, 10, 9, 6, 5, 3, 2, 1]\n"
     ]
    }
   ],
   "source": [
    "list = [1, 2, 3, 5, 6, 9, 10, 11, 12, 13]\n",
    "print(list[::-1])"
   ]
  },
  {
   "cell_type": "markdown",
   "metadata": {},
   "source": [
    "Faça um Programa que leia 4 notas, mostre as notas e a média na tela."
   ]
  },
  {
   "cell_type": "code",
   "execution_count": 7,
   "metadata": {},
   "outputs": [
    {
     "name": "stdout",
     "output_type": "stream",
     "text": [
      "nota 1:  4.0\n",
      "nota 2:  7.0\n",
      "nota 3:  2.0\n",
      "nota 4:  10.0\n",
      "media:  5.75\n"
     ]
    }
   ],
   "source": [
    "nt1 = float(input('nt 1: '))\n",
    "nt2 = float(input('nt 2: '))\n",
    "nt3 = float(input('nt 3: '))\n",
    "nt4 = float(input('nt 4: '))\n",
    "\n",
    "print('nota 1: ', nt1)\n",
    "print('nota 2: ', nt2)\n",
    "print('nota 3: ', nt3)\n",
    "print('nota 4: ', nt4)\n",
    "\n",
    "media = (nt1 + nt2 + nt3 + nt4) / 4\n",
    "\n",
    "print('media: ',media)\n"
   ]
  },
  {
   "cell_type": "markdown",
   "metadata": {},
   "source": [
    "Faça um Programa que leia um vetor de 10 caracteres, e diga quantas consoantes foram lidas.\n",
    "Imprima as consoantes."
   ]
  },
  {
   "cell_type": "code",
   "execution_count": null,
   "metadata": {},
   "outputs": [],
   "source": [
    "lista = ['a' , 'b', 'c' , 'd', 'e', 'f' , 'g' , 'h' , 'i' , 'j']\n",
    "vogais = ['a', 'e', 'i', 'o', 'u']\n",
    "cont = 0\n",
    "listac = []\n",
    "\n",
    "for i in lista:\n",
    "    if i.isalpha() and i not in vogais:\n",
    "        print(i)\n",
    "        listac.append(i)\n",
    "    \n",
    "if lista:\n",
    "    print(\"As consoantes são:\", \", \".join(listac))"
   ]
  },
  {
   "cell_type": "markdown",
   "metadata": {},
   "source": [
    "Faça um Programa que leia 20 números inteiros e armazene-os num vetor. Armazene os números\n",
    "pares no vetor PAR e os números IMPARES no vetor impar. Imprima os três vetores."
   ]
  },
  {
   "cell_type": "code",
   "execution_count": null,
   "metadata": {},
   "outputs": [],
   "source": []
  }
 ],
 "metadata": {
  "kernelspec": {
   "display_name": "Python 3",
   "language": "python",
   "name": "python3"
  },
  "language_info": {
   "codemirror_mode": {
    "name": "ipython",
    "version": 3
   },
   "file_extension": ".py",
   "mimetype": "text/x-python",
   "name": "python",
   "nbconvert_exporter": "python",
   "pygments_lexer": "ipython3",
   "version": "3.12.5"
  }
 },
 "nbformat": 4,
 "nbformat_minor": 2
}
