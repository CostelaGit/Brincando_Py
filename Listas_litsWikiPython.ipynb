{
 "cells": [
  {
   "cell_type": "markdown",
   "metadata": {},
   "source": [
    "Faça um Programa que leia um vetor de 5 números inteiros e mostre-os"
   ]
  },
  {
   "cell_type": "code",
   "execution_count": null,
   "metadata": {},
   "outputs": [],
   "source": [
    "list = [1, 2, 3, 4, 5]\n",
    "print(list)"
   ]
  },
  {
   "cell_type": "markdown",
   "metadata": {},
   "source": [
    "Faça um Programa que leia um vetor de 10 números reais e mostre-os na ordem inversa"
   ]
  },
  {
   "cell_type": "code",
   "execution_count": null,
   "metadata": {},
   "outputs": [],
   "source": [
    "list = [1, 2, 3, 5, 6, 9, 10, 11, 12, 13]\n",
    "print(list[::-1])"
   ]
  },
  {
   "cell_type": "markdown",
   "metadata": {},
   "source": [
    "Faça um Programa que leia 4 notas, mostre as notas e a média na tela."
   ]
  },
  {
   "cell_type": "code",
   "execution_count": null,
   "metadata": {},
   "outputs": [],
   "source": [
    "nt1 = float(input('nt 1: '))\n",
    "nt2 = float(input('nt 2: '))\n",
    "nt3 = float(input('nt 3: '))\n",
    "nt4 = float(input('nt 4: '))\n",
    "\n",
    "print('nota 1: ', nt1)\n",
    "print('nota 2: ', nt2)\n",
    "print('nota 3: ', nt3)\n",
    "print('nota 4: ', nt4)\n",
    "\n",
    "media = (nt1 + nt2 + nt3 + nt4) / 4\n",
    "\n",
    "print('media: ',media)\n"
   ]
  },
  {
   "cell_type": "markdown",
   "metadata": {},
   "source": [
    "Faça um Programa que leia um vetor de 10 caracteres, e diga quantas consoantes foram lidas.\n",
    "Imprima as consoantes."
   ]
  },
  {
   "cell_type": "code",
   "execution_count": null,
   "metadata": {},
   "outputs": [],
   "source": [
    "#n vou mentir aqui tive q usar chatgpt pra entender a questão.... só para relembrar for\n",
    "lista = ['a' , 'b', 'c' , 'd', 'e', 'f' , 'g' , 'h' , 'i' , 'j']\n",
    "vogais = ['a', 'e', 'i', 'o', 'u']\n",
    "cont = 0\n",
    "listac = []\n",
    "\n",
    "for i in lista:\n",
    "    if i not in vogais:\n",
    "        print(i)\n",
    "        listac.append(i)\n",
    "    \n",
    "if lista:\n",
    "    print(\"As consoantes são:\", \", \".join(listac))"
   ]
  },
  {
   "cell_type": "markdown",
   "metadata": {},
   "source": [
    "Faça um Programa que leia 20 números inteiros e armazene-os num vetor. Armazene os números\n",
    "pares no vetor PAR e os números IMPARES no vetor impar. Imprima os três vetores."
   ]
  },
  {
   "cell_type": "code",
   "execution_count": null,
   "metadata": {},
   "outputs": [],
   "source": [
    "vetor = []\n",
    "vetorp = []\n",
    "vetori = []\n",
    "i = 0\n",
    "\n",
    "while i < 20:\n",
    "    vetor.append(int(input(f'digite o {i} numero: ')))\n",
    "    i += 1\n",
    "for i in vetor:\n",
    "    if (i % 2) == 0:\n",
    "        vetorp.append(i)\n",
    "    else:\n",
    "        vetori.append(i)\n",
    "\n",
    "print(f'vetor padrão: {vetor}')\n",
    "print(f'Numeros pares são: {vetorp}')\n",
    "print(f'Numeros impares são: {vetori}')\n"
   ]
  },
  {
   "cell_type": "markdown",
   "metadata": {},
   "source": [
    "Faça um Programa que peça as quatro notas de 10 alunos, calcule e armazene num vetor a média\n",
    "de cada aluno, imprima o número de alunos com média maior ou igual a 7.0."
   ]
  },
  {
   "cell_type": "code",
   "execution_count": null,
   "metadata": {},
   "outputs": [],
   "source": [
    "a = 10\n",
    "b = 0\n",
    "c = 0\n",
    "d = 0\n",
    " # ae poxa dps de tanto sacrificio mental.\n",
    "\n",
    "lista = []\n",
    "\n",
    "\n",
    "while b != a:\n",
    "    for i in range(0,4):\n",
    "        c = float(input(f'digite a nota {i} do aluno: '))\n",
    "        d += c\n",
    "    d = d / 4\n",
    "    lista.append(d)\n",
    "    d = 0\n",
    "    b += 1\n",
    "\n",
    "for i in lista:\n",
    "    if i >= 7:\n",
    "        print(i)"
   ]
  },
  {
   "cell_type": "markdown",
   "metadata": {},
   "source": [
    "Faça um Programa que leia um vetor de 5 números inteiros, mostre a soma, a multiplicação e os\n",
    "números"
   ]
  },
  {
   "cell_type": "code",
   "execution_count": null,
   "metadata": {},
   "outputs": [],
   "source": [
    "a = [2, 4, 8, 10, 1]\n",
    "b = 0\n",
    "c = 1\n",
    "\n",
    "\n",
    "\n",
    "for i in a:\n",
    "    b += i\n",
    "print(f'soma é:{b}')\n",
    "\n",
    "for i in a:\n",
    "    c *= i\n",
    "print(f'multiplicação é:{c}')\n",
    "\n",
    "for i in a:\n",
    "    print(i)"
   ]
  },
  {
   "cell_type": "markdown",
   "metadata": {},
   "source": [
    "Faça um Programa que peça a idade e a altura de 5 pessoas, armazene cada informação no seu\n",
    "respectivo vetor. Imprima a idade e a altura na ordem inversa a ordem lida."
   ]
  },
  {
   "cell_type": "code",
   "execution_count": 2,
   "metadata": {},
   "outputs": [
    {
     "name": "stdout",
     "output_type": "stream",
     "text": [
      "<built-in method reverse of list object at 0x0000020344359B80>\n",
      "<built-in method reverse of list object at 0x0000020344355980>\n"
     ]
    }
   ],
   "source": [
    "idade_ = []\n",
    "altura_ = []\n",
    "\n",
    "l = 0\n",
    "\n",
    "while l != 5:\n",
    "    altura = float(input(f'digite a altura da pessoa: '))\n",
    "    idade = float(input('digite a idade: '))\n",
    "\n",
    "    idade_.append(idade)\n",
    "    altura_.append(altura)\n",
    "\n",
    "    l += 1\n",
    "print(altura_)\n",
    "print(idade_)\n"
   ]
  },
  {
   "cell_type": "code",
   "execution_count": 52,
   "metadata": {},
   "outputs": [
    {
     "name": "stdout",
     "output_type": "stream",
     "text": [
      "[5, 4]\n",
      "[2.0, 2.0]\n"
     ]
    }
   ],
   "source": [
    "idade_ = []\n",
    "altura_ = []\n",
    "\n",
    "idade_reversa = []\n",
    "altura_reversa = []\n",
    "\n",
    "l = 0\n",
    "\n",
    "while l != 2:\n",
    "    altura = float(input(f'digite a altura da pessoa: '))\n",
    "    idade = int(input('digite a idade: '))\n",
    "\n",
    "    idade_.append(idade)\n",
    "    altura_.append(altura)\n",
    "\n",
    "    l += 1\n",
    "\n",
    "# relembrar como faz lista reversa com for... e depois tem q relembrar com while.\n",
    "\n",
    "for i in range(len(idade_)-1,-1,-1):\n",
    "    idade_reversa.append(idade_[i])\n",
    "print(idade_reversa)\n",
    "\n",
    "for i in range(len(altura_)-1, -1, -1):\n",
    "    altura_reversa.append(altura_[i])\n",
    "print(altura_reversa)\n"
   ]
  }
 ],
 "metadata": {
  "kernelspec": {
   "display_name": "Python 3",
   "language": "python",
   "name": "python3"
  },
  "language_info": {
   "codemirror_mode": {
    "name": "ipython",
    "version": 3
   },
   "file_extension": ".py",
   "mimetype": "text/x-python",
   "name": "python",
   "nbconvert_exporter": "python",
   "pygments_lexer": "ipython3",
   "version": "3.12.5"
  }
 },
 "nbformat": 4,
 "nbformat_minor": 2
}
