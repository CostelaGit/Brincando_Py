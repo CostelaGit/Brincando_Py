{
 "cells": [
  {
   "cell_type": "markdown",
   "metadata": {},
   "source": [
    "Faça um Programa que leia um vetor de 5 números inteiros e mostre-os"
   ]
  },
  {
   "cell_type": "code",
   "execution_count": null,
   "metadata": {},
   "outputs": [],
   "source": [
    "list = [1, 2, 3, 4, 5]\n",
    "print(list)"
   ]
  },
  {
   "cell_type": "markdown",
   "metadata": {},
   "source": [
    "Faça um Programa que leia um vetor de 10 números reais e mostre-os na ordem inversa"
   ]
  },
  {
   "cell_type": "code",
   "execution_count": null,
   "metadata": {},
   "outputs": [],
   "source": [
    "list = [1, 2, 3, 5, 6, 9, 10, 11, 12, 13]\n",
    "print(list[::-1])"
   ]
  },
  {
   "cell_type": "markdown",
   "metadata": {},
   "source": [
    "Faça um Programa que leia 4 notas, mostre as notas e a média na tela."
   ]
  },
  {
   "cell_type": "code",
   "execution_count": null,
   "metadata": {},
   "outputs": [],
   "source": [
    "nt1 = float(input('nt 1: '))\n",
    "nt2 = float(input('nt 2: '))\n",
    "nt3 = float(input('nt 3: '))\n",
    "nt4 = float(input('nt 4: '))\n",
    "\n",
    "print('nota 1: ', nt1)\n",
    "print('nota 2: ', nt2)\n",
    "print('nota 3: ', nt3)\n",
    "print('nota 4: ', nt4)\n",
    "\n",
    "media = (nt1 + nt2 + nt3 + nt4) / 4\n",
    "\n",
    "print('media: ',media)\n"
   ]
  },
  {
   "cell_type": "markdown",
   "metadata": {},
   "source": [
    "Faça um Programa que leia um vetor de 10 caracteres, e diga quantas consoantes foram lidas.\n",
    "Imprima as consoantes."
   ]
  },
  {
   "cell_type": "code",
   "execution_count": null,
   "metadata": {},
   "outputs": [],
   "source": [
    "#n vou mentir aqui tive q usar chatgpt pra entender a questão.... só para relembrar for\n",
    "lista = ['a' , 'b', 'c' , 'd', 'e', 'f' , 'g' , 'h' , 'i' , 'j']\n",
    "vogais = ['a', 'e', 'i', 'o', 'u']\n",
    "cont = 0\n",
    "listac = []\n",
    "\n",
    "for i in lista:\n",
    "    if i not in vogais:\n",
    "        print(i)\n",
    "        listac.append(i)\n",
    "    \n",
    "if lista:\n",
    "    print(\"As consoantes são:\", \", \".join(listac))"
   ]
  },
  {
   "cell_type": "markdown",
   "metadata": {},
   "source": [
    "Faça um Programa que leia 20 números inteiros e armazene-os num vetor. Armazene os números\n",
    "pares no vetor PAR e os números IMPARES no vetor impar. Imprima os três vetores."
   ]
  },
  {
   "cell_type": "code",
   "execution_count": null,
   "metadata": {},
   "outputs": [],
   "source": [
    "vetor = []\n",
    "vetorp = []\n",
    "vetori = []\n",
    "i = 0\n",
    "\n",
    "while i < 20:\n",
    "    vetor.append(int(input(f'digite o {i} numero: ')))\n",
    "    i += 1\n",
    "for i in vetor:\n",
    "    if (i % 2) == 0:\n",
    "        vetorp.append(i)\n",
    "    else:\n",
    "        vetori.append(i)\n",
    "\n",
    "print(f'vetor padrão: {vetor}')\n",
    "print(f'Numeros pares são: {vetorp}')\n",
    "print(f'Numeros impares são: {vetori}')\n"
   ]
  },
  {
   "cell_type": "markdown",
   "metadata": {},
   "source": [
    "Faça um Programa que peça as quatro notas de 10 alunos, calcule e armazene num vetor a média\n",
    "de cada aluno, imprima o número de alunos com média maior ou igual a 7.0."
   ]
  },
  {
   "cell_type": "code",
   "execution_count": 34,
   "metadata": {},
   "outputs": [
    {
     "ename": "SyntaxError",
     "evalue": "expected 'else' after 'if' expression (142781108.py, line 15)",
     "output_type": "error",
     "traceback": [
      "\u001b[1;36m  Cell \u001b[1;32mIn[34], line 15\u001b[1;36m\u001b[0m\n\u001b[1;33m    alunos_acima_7 = media in medias if media >= 7.0\u001b[0m\n\u001b[1;37m                     ^\u001b[0m\n\u001b[1;31mSyntaxError\u001b[0m\u001b[1;31m:\u001b[0m expected 'else' after 'if' expression\n"
     ]
    }
   ],
   "source": [
    "#aqui ele pede... se pede, então é input\n",
    "qtaluno = 1\n",
    "qtnota = 4\n",
    "medias = []\n",
    "\n",
    "\n",
    "for i in range(qtaluno):\n",
    "    soma_notas = 0\n",
    "    for j in range(qtnota):\n",
    "        x = int(input('digite a nota: '))\n",
    "        soma_notas += x\n",
    "    media = soma_notas / qtnota\n",
    "    medias.append(media)\n",
    "\n",
    "alunos_acima_7 = \n",
    "print(f'numero de alunos com media 7: {alunos_acima_7}')\n"
   ]
  }
 ],
 "metadata": {
  "kernelspec": {
   "display_name": "Python 3",
   "language": "python",
   "name": "python3"
  },
  "language_info": {
   "codemirror_mode": {
    "name": "ipython",
    "version": 3
   },
   "file_extension": ".py",
   "mimetype": "text/x-python",
   "name": "python",
   "nbconvert_exporter": "python",
   "pygments_lexer": "ipython3",
   "version": "3.12.5"
  }
 },
 "nbformat": 4,
 "nbformat_minor": 2
}
