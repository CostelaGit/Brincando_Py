{
 "cells": [
  {
   "cell_type": "markdown",
   "metadata": {},
   "source": [
    "utilizando apenas o while escreva um programa que mostre dotodos os numeros entre 5 e 1000 que:\n",
    "\n",
    "a. são divisiveis por 7, mas não sao multiplos de 5 e\n",
    "b. são primos"
   ]
  },
  {
   "cell_type": "code",
   "execution_count": 3,
   "metadata": {},
   "outputs": [
    {
     "name": "stdout",
     "output_type": "stream",
     "text": [
      "[994, 987, 973, 966, 959, 952, 938, 931, 924, 917, 903, 896, 889, 882, 868, 861, 854, 847, 833, 826, 819, 812, 798, 791, 784, 777, 763, 756, 749, 742, 728, 721, 714, 707, 693, 686, 679, 672, 658, 651, 644, 637, 623, 616, 609, 602, 588, 581, 574, 567, 553, 546, 539, 532, 518, 511, 504, 497, 483, 476, 469, 462, 448, 441, 434, 427, 413, 406, 399, 392, 378, 371, 364, 357, 343, 336, 329, 322, 308, 301, 294, 287, 273, 266, 259, 252, 238, 231, 224, 217, 203, 196, 189, 182, 168, 161, 154, 147, 133, 126, 119, 112, 98, 91, 84, 77, 63, 56, 49, 42, 28, 21, 14, 7]\n"
     ]
    }
   ],
   "source": [
    "soma = []\n",
    "divisores = 2\n",
    "\n",
    "for i in range(1000, 5, -1):\n",
    "    if (i % 7 == 0) and (i % 5 != 0):\n",
    "        soma.append(i)\n",
    "print(soma)"
   ]
  }
 ],
 "metadata": {
  "kernelspec": {
   "display_name": "Python 3",
   "language": "python",
   "name": "python3"
  },
  "language_info": {
   "codemirror_mode": {
    "name": "ipython",
    "version": 3
   },
   "file_extension": ".py",
   "mimetype": "text/x-python",
   "name": "python",
   "nbconvert_exporter": "python",
   "pygments_lexer": "ipython3",
   "version": "3.12.5"
  }
 },
 "nbformat": 4,
 "nbformat_minor": 2
}
